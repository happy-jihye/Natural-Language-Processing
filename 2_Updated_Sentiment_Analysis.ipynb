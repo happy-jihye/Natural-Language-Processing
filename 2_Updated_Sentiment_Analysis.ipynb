{
  "nbformat": 4,
  "nbformat_minor": 0,
  "metadata": {
    "colab": {
      "name": "2 - Updated Sentiment Analysis",
      "provenance": [],
      "authorship_tag": "ABX9TyOTThB8TMboJBnj1bZt77bJ",
      "include_colab_link": true
    },
    "kernelspec": {
      "name": "python3",
      "display_name": "Python 3"
    },
    "accelerator": "GPU"
  },
  "cells": [
    {
      "cell_type": "markdown",
      "metadata": {
        "id": "view-in-github",
        "colab_type": "text"
      },
      "source": [
        "<a href=\"https://colab.research.google.com/github/happy-jihye/Natural-Language-Processing/blob/main/2_Updated_Sentiment_Analysis.ipynb\" target=\"_parent\"><img src=\"https://colab.research.google.com/assets/colab-badge.svg\" alt=\"Open In Colab\"/></a>"
      ]
    },
    {
      "cell_type": "markdown",
      "metadata": {
        "id": "26nADTPFDL6F"
      },
      "source": [
        "# 2 - Updated Sentiment Analysis\r\n",
        "\r\n",
        "- Pytorch / TorchText\r\n",
        "- RNN network를 사용한 Sentiment Analysis 예제\r\n",
        "- In this tutorial, We will use : \r\n",
        "  - packed padded sequences\r\n",
        "  - pre-trained word embeddings\r\n",
        "  - different RNN architecture\r\n",
        "  - bidirectional RNN\r\n",
        "  - multi-layer RNN\r\n",
        "  - regularization\r\n",
        "  - a different optimizer\r\n",
        "\r\n",
        "- 위의 방식을 사용함으로써 정확도를 ~84% 까지 향상시킬 수 있습니다.\r\n",
        "\r\n",
        "> 2021/03/13 Happy-jihye\r\n",
        "> \r\n",
        "> **Reference** : [pytorch-sentiment-analysis/2 - Updated Sentiment Analysis](https://github.com/bentrevett/pytorch-sentiment-analysis/blob/master/2%20-%20Upgraded%20Sentiment%20Analysis.ipynb)\r\n"
      ]
    },
    {
      "cell_type": "markdown",
      "metadata": {
        "id": "L0jFZX0dEmMB"
      },
      "source": [
        "## 1. Preparing Data\r\n"
      ]
    },
    {
      "cell_type": "markdown",
      "metadata": {
        "id": "SFd2lRS-G89C"
      },
      "source": [
        "#### 1) Text/Label\r\n",
        "- **[spaCy](https://spacy.io/)** : nlp를 쉽게 할 수 있도록 도와주는 python package로, tokenizaing, parsing, pos tagging 등을 지원합니다.\r\n",
        "- **[Field](https://pytorch.org/text/_modules/torchtext/data/field.html)** "
      ]
    },
    {
      "cell_type": "code",
      "metadata": {
        "id": "2Lj415BkW090"
      },
      "source": [
        "!apt install python3.7"
      ],
      "execution_count": null,
      "outputs": []
    },
    {
      "cell_type": "code",
      "metadata": {
        "id": "m0cr1n7oE-pM"
      },
      "source": [
        "!pip install -U torchtext==0.6.0"
      ],
      "execution_count": null,
      "outputs": []
    },
    {
      "cell_type": "code",
      "metadata": {
        "id": "cArSLZmKEydH"
      },
      "source": [
        "%%capture\r\n",
        "!python -m spacy download en"
      ],
      "execution_count": 3,
      "outputs": []
    },
    {
      "cell_type": "markdown",
      "metadata": {
        "id": "7fMsfOqrVag1"
      },
      "source": [
        "### [Packed padded sequences](https://simonjisu.github.io/nlp/2018/07/05/packedsequence.html)\r\n",
        "- NLP에서는 매 batch마다 고정된 문장의 길이로 만들어주기 위해서 $<pad>$를 넣어주는데, 이 때문에 연산량이 늘어납니다.\r\n",
        "- 따라서 hidden layer에서 매 time step마다 batch_sizes를 참고해서 계산을 하도록 하여 연산량을 줄입니다.\r\n",
        "![](Updated_Sentiment_Analysis1.gif)\r\n",
        "- 기존의 RNN이라면 (batch_size X sequence_length X hidden_layer)만큼 연산을 해야하지만, packed padded sequences의 방법을 사용하면 (token_length X hidden_layer)만큼만 계산해주면 됩니다. "
      ]
    },
    {
      "cell_type": "code",
      "metadata": {
        "id": "cn9QsVChE48-"
      },
      "source": [
        "import torch\r\n",
        "from torchtext import data\r\n",
        "\r\n",
        "TEXT = data.Field(tokenize = 'spacy',\r\n",
        "                  tokenizer_language = 'en',\r\n",
        "                  include_lengths = True)\r\n",
        "LABEL = data.LabelField(dtype = torch.float) # pos -> 1 / neg -> 0"
      ],
      "execution_count": 4,
      "outputs": []
    },
    {
      "cell_type": "markdown",
      "metadata": {
        "id": "_R9bRwoyIia9"
      },
      "source": [
        "#### 2) IMDb Dataset\r\n",
        "- 5만개의 영화 리뷰로 구성된 dataset\r\n",
        "- IMDb dataset을 다운로드 받은 후, 이전에 정의한 Field(TEXT, LABEL)를 사용해서 데이터를 처리하였습니다.\r\n",
        "- torchtext.datasets의 [IMDB](https://pytorch.org/text/stable/datasets.html#imdb) 의 dataset에서 train_data, valid_data, test_data를 나눠주었습니다.\r\n"
      ]
    },
    {
      "cell_type": "code",
      "metadata": {
        "id": "PadXXIFIKXg_"
      },
      "source": [
        "from torchtext import datasets\r\n",
        "\r\n",
        "train_data, test_data = datasets.IMDB.splits(TEXT, LABEL)"
      ],
      "execution_count": 5,
      "outputs": []
    },
    {
      "cell_type": "code",
      "metadata": {
        "id": "F9-dgz-PMQp6"
      },
      "source": [
        "import random\r\n",
        "\r\n",
        "SEED = 1234\r\n",
        "\r\n",
        "torch.manual_seed(SEED)\r\n",
        "torch.backends.cudnn.deterministic = True\r\n",
        "\r\n",
        "train_data, valid_data = train_data.split(random_state = random.seed(SEED))"
      ],
      "execution_count": 6,
      "outputs": []
    },
    {
      "cell_type": "code",
      "metadata": {
        "colab": {
          "base_uri": "https://localhost:8080/"
        },
        "id": "gK61YhDIMgPm",
        "outputId": "0c545d9e-db87-4c74-c74c-8608fdd93b8f"
      },
      "source": [
        "print(f'training examples 수 : {len(train_data)}')\r\n",
        "print(f'validations examples 수 : {len(valid_data)}')\r\n",
        "print(f'testing examples 수 : {len(test_data)}')"
      ],
      "execution_count": 7,
      "outputs": [
        {
          "output_type": "stream",
          "text": [
            "training examples 수 : 17500\n",
            "validations examples 수 : 7500\n",
            "testing examples 수 : 25000\n"
          ],
          "name": "stdout"
        }
      ]
    },
    {
      "cell_type": "markdown",
      "metadata": {
        "id": "sMQDknQkNKGY"
      },
      "source": [
        "#### 3) Build Vocabulary\r\n",
        "- one-hot encoding 방식을 사용해서 단어들을 indexing 합니다.\r\n",
        "![](images/Simple_RNN_model1.png)\r\n",
        "\r\n",
        "- training dataset에 있는 단어들은 10만개가 넘는데, 이 모든 단어들에 대해 indexing을 하면 one-hot vector의 dimension이 10만개가 되므로 연산하기 좋지 않습니다.\r\n",
        "  - 따라서 어휘의 수를 MAX_VOCAB_SIZE로 제한하였고,이 예제에서는 **25,000 words**를 사용하였습니다.\r\n",
        "  - \"This film is great and I love it\" 라는 문장에서 \"love\"라는 단어가 vocabulary에 없다면, \"This film is great and I $<unk>$ it\"로 문장을 학습시키게 됩니다.\r\n",
        "- **[Pre-Trained Word Embedding](https://wikidocs.net/33793)** : training data가 적다면 직접 embedding vector를 훈련시켜 embedding vector를 만들어내도 되지만, 어렵다면 이미 학습되어져있는 embedding vector를 사용함으로써 성능을 향상시킬 수 있습니다.\r\n",
        "  - GloVe, Word2Vec 등 다양한 embedding vector가 있지만, 이 예제에서는 \"glove.6B.100d\" vectors를 이용하였습니다.\r\n",
        "  - **\"glove.6B.100d\"** vectors : \"glove\"는 vector를 계산하는데 사용되는 알고리즘이며, 6B는 이 vector가 60억 token에 대해 훈련되었음알 나타냅니다. 또한, 100d는 이 embedding vector가 100차원임을 나타냅니다.\r\n",
        "- torchtext가 vocabulary에 있는 단어들은 initialization을 하지만, pre-trained embeddings에 대해서는 0으로 초기화를 안하므로 ***unk_init***을 *torch.Tensor.normal_*로 설정하여 random으로 초기화를 합니다. 이렇게 하면 Gaussian distribution을 통해 해당 단어가 초기화됩니다."
      ]
    },
    {
      "cell_type": "code",
      "metadata": {
        "id": "L8r09NpIPPXH"
      },
      "source": [
        "MAX_VOCAB_SIZE = 25_000\r\n",
        "\r\n",
        "TEXT.build_vocab(train_data, \r\n",
        "                 max_size = MAX_VOCAB_SIZE,\r\n",
        "                 vectors = \"glove.6B.100d\",\r\n",
        "                 unk_init = torch.Tensor.normal_)\r\n",
        "LABEL.build_vocab(train_data)"
      ],
      "execution_count": 8,
      "outputs": []
    },
    {
      "cell_type": "markdown",
      "metadata": {
        "id": "Ty-HvZnzR2MB"
      },
      "source": [
        "- vocab size가 25,000개가 아닌 25,002개인 이유는 $<unk>$ token과 $<pad>$ token이 추가되었기 때문입니다.\r\n",
        "- $<pad>$ token : 문장의 길이를 맞추기 위해 있는 token"
      ]
    },
    {
      "cell_type": "code",
      "metadata": {
        "colab": {
          "base_uri": "https://localhost:8080/"
        },
        "id": "SnRLbdsMRKLX",
        "outputId": "fda41282-51ba-40c5-aaa5-abedc08ef60f"
      },
      "source": [
        "print(f\"Unique tokens in TEXT vocabulary: {len(TEXT.vocab)}\")\r\n",
        "print(f\"Unique tokens in LABEL vocabulary: {len(LABEL.vocab)}\")"
      ],
      "execution_count": 9,
      "outputs": [
        {
          "output_type": "stream",
          "text": [
            "Unique tokens in TEXT vocabulary: 25002\n",
            "Unique tokens in LABEL vocabulary: 2\n"
          ],
          "name": "stdout"
        }
      ]
    },
    {
      "cell_type": "markdown",
      "metadata": {
        "id": "QucJLf94s9-q"
      },
      "source": [
        "- BucketIterator를 사용하여 interators를 만듭니다.\r\n",
        "- 이때, packed padded sequences의 방식을 사용하려면 sequence length를 바탕으로 batch내의 문장들을 정렬해야하므로 ***sort_within_batch***를 *True*로 설정합니다."
      ]
    },
    {
      "cell_type": "code",
      "metadata": {
        "id": "Khgb9NUFYXXI"
      },
      "source": [
        "import torch\r\n",
        "\r\n",
        "device = torch.device('cuda' if torch.cuda.is_available() else 'cpu')\r\n",
        "\r\n",
        "BATCH_SIZE = 64\r\n",
        "\r\n",
        "train_iterator, valid_iterator, test_iterator = data.BucketIterator.splits(\r\n",
        "    (train_data, valid_data, test_data),\r\n",
        "    batch_size = BATCH_SIZE,\r\n",
        "    sort_within_batch = True,\r\n",
        "    device = device\r\n",
        ")"
      ],
      "execution_count": 10,
      "outputs": []
    },
    {
      "cell_type": "markdown",
      "metadata": {
        "id": "e3GRlCNhdhfZ"
      },
      "source": [
        "- **packed padding sentence**를 한 결과,\r\n",
        "  batch.text의 첫번째 요소는 sentence(a numericalized tensor that has been padded)가 되고, 두번째 요소는 실제 문장 길이가 됩니다."
      ]
    },
    {
      "cell_type": "code",
      "metadata": {
        "colab": {
          "base_uri": "https://localhost:8080/"
        },
        "id": "_NfL5WwTn7Fp",
        "outputId": "f8f87a1c-f36d-42d9-d723-630398b78d85"
      },
      "source": [
        "# iterator 출력\r\n",
        "for batch in train_iterator:\r\n",
        "  print(batch.text[0].shape)\r\n",
        "  #sentence\r\n",
        "  print(batch.text[0])\r\n",
        "  #sentence lengths\r\n",
        "  print(batch.text[1])\r\n",
        "  print(batch.text[1].shape)\r\n",
        "  # 첫 번째 batch만 출력\r\n",
        "  break"
      ],
      "execution_count": 11,
      "outputs": [
        {
          "output_type": "stream",
          "text": [
            "torch.Size([133, 64])\n",
            "tensor([[   25,  3725,   147,  ...,     0,  2828,     2],\n",
            "        [ 1156,     0,    24,  ...,   250,  1702, 20270],\n",
            "        [   11,    18,    53,  ...,  1280,   136,   906],\n",
            "        ...,\n",
            "        [  144,    36,  1500,  ...,     1,     1,     1],\n",
            "        [   40,   763,   794,  ...,     1,     1,     1],\n",
            "        [    4,     4,    58,  ...,     1,     1,     1]], device='cuda:0')\n",
            "tensor([133, 133, 133, 133, 133, 133, 132, 132, 132, 132, 132, 132, 132, 132,\n",
            "        132, 132, 132, 132, 132, 132, 132, 132, 132, 132, 132, 132, 132, 132,\n",
            "        132, 132, 132, 132, 132, 132, 132, 132, 132, 131, 131, 131, 131, 131,\n",
            "        131, 131, 131, 131, 131, 131, 131, 131, 131, 131, 131, 131, 131, 131,\n",
            "        131, 131, 131, 131, 130, 130, 130, 130], device='cuda:0')\n",
            "torch.Size([64])\n"
          ],
          "name": "stdout"
        }
      ]
    },
    {
      "cell_type": "markdown",
      "metadata": {
        "id": "SBtU7KsqZ12O"
      },
      "source": [
        "## 2. Build Model\r\n",
        "\r\n"
      ]
    },
    {
      "cell_type": "markdown",
      "metadata": {
        "id": "LMiDiSqofOZ0"
      },
      "source": [
        "### **LSTM (Long Short-Term Memory)**\r\n",
        "- Hidden layer가 많은 perceptron에서는 hidden layer를 많이 거칠수록 전달되는 오차가 크게 줄어들어 학습이 되지 않은 현상이 발생하는데, 이를 **[vanishing gradient problem](http://computing.or.kr/14804/vanishing-gradient-problem%EA%B8%B0%EC%9A%B8%EA%B8%B0-%EC%86%8C%EB%A9%B8-%EB%AC%B8%EC%A0%9C/)**라고 합니다.\r\n",
        "- Standard RNNs에서는 vanishing gradient problem으로 인해 학습이 잘 안되는 경우가 많기 때문에 대부분의 경우에서 LSTM을 사용한 RNN architecture가 Standard RNNs보다 성능이 좋습니다.\r\n",
        "- LSTM은 기억하고 잊는 부분을 수학적으로 구현한 모델로, 과거의 정보들을 보다 더 잘 기억하도록 하여 \"long-term dependencies\"를 해결하였습니다.  ([설명](http://colah.github.io/posts/2015-08-Understanding-LSTMs/))\r\n",
        "$$(h_t, c_t) = \\text{LSTM}(x_t, h_t, c_t)$$\r\n",
        "![](images/Updated_Sentiment_Analysis2.png)"
      ]
    },
    {
      "cell_type": "markdown",
      "metadata": {
        "id": "99qcqNnyLhWT"
      },
      "source": [
        "### **Bidirectional RNN**\r\n",
        "- 기존의 RNN이 과거의 상태를 \"memory\"에 저장하여 시계열 데이터의 학습을 용이하게 하였다면, **BRNNs**는 과거의 상태뿐만 아니라 미래의 상태까지 고려하도록 확장된 모델입니다.\r\n",
        "- time step $t$ 에서, **forward RNN**은 $x_t$의 단어까지 처리를 하고, **backward RNN**은 $x_{T-t+1}$의 단어까지 처리를 합니다.\r\n",
        "- 최종 결과값 : $\\hat{y}=f(h_T^\\rightarrow, h_T^\\leftarrow)$\r\n",
        "![](images/Updated_Sentiment_Analysis3.png)"
      ]
    },
    {
      "cell_type": "markdown",
      "metadata": {
        "id": "7Q_Sd3a8NgSg"
      },
      "source": [
        "### **Multi-layer RNN**\r\n",
        "- **Multi-layer RNN**은 기존의 RNN을 여러 layer로 쌓은 모델입니다.\r\n",
        "![](images/Updated_Sentiment_Analysis4.png)"
      ]
    },
    {
      "cell_type": "markdown",
      "metadata": {
        "id": "k629X2LhOWot"
      },
      "source": [
        "### **Regularization**\r\n",
        "- **Overfitting**은 학습 데이터를 과하게 잘 학습시키는 것입니다. 아래의 그림을 보면 (a)는 지나치게 단순하게 학습을 하여 예측을 잘 못하게 되는 underfitting의 경우이고, (c)는 지나치게 학습을 시켜 예측을 잘 못하게 되는 경우입니다.만약, (b)가 아닌 (c)처럼 학습을 시키게 된다면 새로운 sample이 주어졌을 때 엉터리 결과가 나올 수 있게 됩니다.\r\n",
        "![](images/Updated_Sentiment_Analysis5.png)\r\n",
        "\r\n",
        "- **[Dropout](https://blog.naver.com/laonple/220542170499)** : layer를 foward pass로 학습을 하는 동안 random하게 뉴런을 0으로 설정하는 방식입니다. dropout은 neural network가 깊어질 경우 overfitting의 문제를 해결하기 위해 제시된 방식이며, 아래의 그림에서 (a)처럼 모든 layer에 대해 학습을 수행하는 것이 아니라 (b)처럼 일부 신경망에 대해서만 학습을 수행하게 됩니다. (이 [논문](https://www.cs.toronto.edu/~hinton/absps/JMLRdropout.pdf) 참고)\r\n",
        "![](images/Updated_Sentiment_Analysis6.png)\r\n",
        "\r\n",
        "### **Implementation Details**\r\n",
        "- $<pad>$ token은 문장의 감정과는 무관하므로 padding token에 대해서는 embedding을 학습시키지 않습니다. 따라서 이를 위해 nn.Embedding에 **padding_idx**를 전달하였고, 이로써 pad token은 계속해서 embedding이 초기화된 상태를 유지할 수 있습니다."
      ]
    },
    {
      "cell_type": "code",
      "metadata": {
        "id": "0v8A8X6CbeuJ"
      },
      "source": [
        "import torch.nn as nn\r\n",
        "\r\n",
        "class RNN(nn.Module):\r\n",
        "  def __init__(self, input_dim, embedding_dim, hidden_dim, output_dim, n_layers, bidirectional, dropout, pad_idx):\r\n",
        "    super().__init__()\r\n",
        "\r\n",
        "    self.embedding = nn.Embedding(input_dim, embedding_dim, padding_idx = pad_idx)\r\n",
        "\r\n",
        "    self.rnn = nn.LSTM(embedding_dim,\r\n",
        "                       hidden_dim,\r\n",
        "                       num_layers = n_layers,\r\n",
        "                       bidirectional = bidirectional,\r\n",
        "                       dropout = dropout)\r\n",
        "    \r\n",
        "    self.fc = nn.Linear(hidden_dim * 2, output_dim)\r\n",
        "\r\n",
        "    self.dropout = nn.Dropout(dropout)\r\n",
        "  \r\n",
        "  def forward(self, text, text_lengths):\r\n",
        "    \r\n",
        "    # text = [sentence length, batch size]\r\n",
        "\r\n",
        "    embedded = self.dropout(self.embedding(text))\r\n",
        "\r\n",
        "    # embedded = [sentence length, batch size, embedding dim]\r\n",
        "\r\n",
        "    # pack sequence\r\n",
        "    packed_embedded = nn.utils.rnn.pack_padded_sequence(embedded, text_lengths.to('cpu'))\r\n",
        "    # LSTM module을 지나고 나면 hidden state와 cell state가 나옴\r\n",
        "    packed_output, (hidden, cell) = self.rnn(packed_embedded)\r\n",
        "\r\n",
        "    # unpack sequence\r\n",
        "    output, output_lengths = nn.utils.rnn.pad_packed_sequence(packed_output)\r\n",
        "\r\n",
        "    # output = [sentence length, batch size, hidden dim * num directions]\r\n",
        "    # hidden = [num layers * num directions, batch size, hidden dim]\r\n",
        "    # cell = [num layers * num directions, batch size, hidden dim]\r\n",
        "\r\n",
        "    # 최종적으로 hidden state는 final(top) layer만 남겨두기!\r\n",
        "    hidden = self.dropout(torch.cat((hidden[-2,:,:], hidden[-1,:,:]), dim = 1))\r\n",
        "    \r\n",
        "    # hidden = [batch size, hidden dim * num directions]\r\n",
        "\r\n",
        "    return self.fc(hidden)"
      ],
      "execution_count": 12,
      "outputs": []
    },
    {
      "cell_type": "markdown",
      "metadata": {
        "id": "7ui0Y4b0g1ax"
      },
      "source": [
        "- **Input dim** : one-hot vector의 dimension과 같음(vocabulary size)\r\n",
        "- **Embedding dim** : 보통 50-250 dimensions\r\n",
        "- **Hidden dim** :보통 100-500 dim\r\n",
        "- **Output dim** : class의 수, 위 예제에서는 0아니면 1이므로 1-dim"
      ]
    },
    {
      "cell_type": "code",
      "metadata": {
        "id": "XN_0DpCqgQNx"
      },
      "source": [
        "INPUT_DIM = len(TEXT.vocab) #25,002\r\n",
        "EMBEDDING_DIM = 100\r\n",
        "HIDDEN_DIM = 256\r\n",
        "OUTPUT_DIM = 1\r\n",
        "N_LAYERS = 2\r\n",
        "BIDIRECTIONAL = True\r\n",
        "DROPOUT = 0.5\r\n",
        "PAD_IDX = TEXT.vocab.stoi[TEXT.pad_token] # = 1 (<pad> token의 index)\r\n",
        "\r\n",
        "model = RNN(INPUT_DIM, \r\n",
        "            EMBEDDING_DIM, \r\n",
        "            HIDDEN_DIM, \r\n",
        "            OUTPUT_DIM, \r\n",
        "            N_LAYERS, \r\n",
        "            BIDIRECTIONAL, \r\n",
        "            DROPOUT, \r\n",
        "            PAD_IDX)"
      ],
      "execution_count": 29,
      "outputs": []
    },
    {
      "cell_type": "code",
      "metadata": {
        "id": "d6uSeSNhhdju",
        "colab": {
          "base_uri": "https://localhost:8080/"
        },
        "outputId": "00d00886-3264-4586-9f93-46e821525d2e"
      },
      "source": [
        "def count_parameters(model):\r\n",
        "    return sum(p.numel() for p in model.parameters() if p.requires_grad)\r\n",
        "\r\n",
        "print(f'The model has {count_parameters(model):,} trainable parameters')"
      ],
      "execution_count": 30,
      "outputs": [
        {
          "output_type": "stream",
          "text": [
            "The model has 4,810,857 trainable parameters\n"
          ],
          "name": "stdout"
        }
      ]
    },
    {
      "cell_type": "code",
      "metadata": {
        "colab": {
          "base_uri": "https://localhost:8080/"
        },
        "id": "wDNIyfG8XVbo",
        "outputId": "e8a4d47b-0434-4289-a63e-528b6858cffb"
      },
      "source": [
        "pretrained_embeddings = TEXT.vocab.vectors\r\n",
        "\r\n",
        "print(pretrained_embeddings.shape)"
      ],
      "execution_count": 31,
      "outputs": [
        {
          "output_type": "stream",
          "text": [
            "torch.Size([25002, 100])\n"
          ],
          "name": "stdout"
        }
      ]
    },
    {
      "cell_type": "code",
      "metadata": {
        "colab": {
          "base_uri": "https://localhost:8080/"
        },
        "id": "5AH2Wgi_XiZA",
        "outputId": "ad2fab0b-4d7c-4cb0-eff3-4f5b03d7b6a2"
      },
      "source": [
        "model.embedding.weight.data.copy_(pretrained_embeddings)"
      ],
      "execution_count": 32,
      "outputs": [
        {
          "output_type": "execute_result",
          "data": {
            "text/plain": [
              "tensor([[-1.1172e-01, -4.9659e-01,  1.6307e-01,  ...,  1.2647e+00,\n",
              "         -2.7527e-01, -1.3254e-01],\n",
              "        [-8.5549e-01, -7.2081e-01,  1.3755e+00,  ...,  8.2522e-02,\n",
              "         -1.1314e+00,  3.9972e-01],\n",
              "        [-3.8194e-02, -2.4487e-01,  7.2812e-01,  ..., -1.4590e-01,\n",
              "          8.2780e-01,  2.7062e-01],\n",
              "        ...,\n",
              "        [ 5.4535e-01,  3.3626e-01, -1.1108e+00,  ..., -4.8598e-01,\n",
              "          9.7973e-01, -3.9464e-01],\n",
              "        [ 9.5999e-04, -1.0385e-01,  4.2951e-01,  ..., -4.9738e-01,\n",
              "         -8.1855e-01,  7.2384e-01],\n",
              "        [-8.6995e-01,  4.4439e-02, -4.7513e-01,  ...,  1.9572e-02,\n",
              "         -6.1444e-01,  8.2885e-01]])"
            ]
          },
          "metadata": {
            "tags": []
          },
          "execution_count": 32
        }
      ]
    },
    {
      "cell_type": "markdown",
      "metadata": {
        "id": "l6YlSR57YSjl"
      },
      "source": [
        "- unknown token과 padding token은 embedding weight를 0으로 초기화"
      ]
    },
    {
      "cell_type": "code",
      "metadata": {
        "colab": {
          "base_uri": "https://localhost:8080/"
        },
        "id": "HTzvOsVCXtvO",
        "outputId": "3d46e81e-64dd-433e-9b62-64a403aaa9b3"
      },
      "source": [
        "# PAD_IDX = TEXT.vocab.stoi[TEXT.pad_token] : 1\r\n",
        "UNK_IDX = TEXT.vocab.stoi[TEXT.unk_token] #0\r\n",
        "\r\n",
        "model.embedding.weight.data[UNK_IDX] = torch.zeros(EMBEDDING_DIM)\r\n",
        "model.embedding.weight.data[PAD_IDX] = torch.zeros(EMBEDDING_DIM)\r\n",
        "\r\n",
        "print(model.embedding.weight.data)"
      ],
      "execution_count": 33,
      "outputs": [
        {
          "output_type": "stream",
          "text": [
            "tensor([[ 0.0000e+00,  0.0000e+00,  0.0000e+00,  ...,  0.0000e+00,\n",
            "          0.0000e+00,  0.0000e+00],\n",
            "        [ 0.0000e+00,  0.0000e+00,  0.0000e+00,  ...,  0.0000e+00,\n",
            "          0.0000e+00,  0.0000e+00],\n",
            "        [-3.8194e-02, -2.4487e-01,  7.2812e-01,  ..., -1.4590e-01,\n",
            "          8.2780e-01,  2.7062e-01],\n",
            "        ...,\n",
            "        [ 5.4535e-01,  3.3626e-01, -1.1108e+00,  ..., -4.8598e-01,\n",
            "          9.7973e-01, -3.9464e-01],\n",
            "        [ 9.5999e-04, -1.0385e-01,  4.2951e-01,  ..., -4.9738e-01,\n",
            "         -8.1855e-01,  7.2384e-01],\n",
            "        [-8.6995e-01,  4.4439e-02, -4.7513e-01,  ...,  1.9572e-02,\n",
            "         -6.1444e-01,  8.2885e-01]])\n"
          ],
          "name": "stdout"
        }
      ]
    },
    {
      "cell_type": "markdown",
      "metadata": {
        "id": "fy-6lg_HhfSb"
      },
      "source": [
        "## 3. Train the Model"
      ]
    },
    {
      "cell_type": "markdown",
      "metadata": {
        "id": "qtXPbSXchiIy"
      },
      "source": [
        "#### optimizer\r\n",
        "- **Adam** 를 이용해서 model을 update하였습니다.\r\n",
        "  - 이전 tutorial에서 사용했던 **SGD**는 동일한 학습속도로 parameter를 업데이트하기 때문에 학습속도를 선택하기 어렵지만, Adam은 각 매개변수에 대해 학습속도를 조정해주기 때문에 자주 학습되는 parameter에 낮은 learning rate를 update하고 자주 학습되지 않는 parameter에 높은 learning rate를 update할 수 있습니다."
      ]
    },
    {
      "cell_type": "code",
      "metadata": {
        "id": "L0vLv4drhyXL"
      },
      "source": [
        "import torch.optim as optim\r\n",
        "\r\n",
        "optimizer =optim.Adam(model.parameters())"
      ],
      "execution_count": 34,
      "outputs": []
    },
    {
      "cell_type": "markdown",
      "metadata": {
        "id": "9XxWUCDih_0z"
      },
      "source": [
        "#### loss function\r\n",
        "- loss function 으로는 **binary cross entropy with logits**을 사용하였습니다.\r\n",
        "- 0아니면 1의 label을 예측해야하므로 **sigmoid**나 **logit** function을 사용하였습니다.\r\n",
        "- [BCEWithLogitsLoss](https://pytorch.org/docs/stable/generated/torch.nn.BCEWithLogitsLoss.html)는 sigmoid와 the binary cross entropy steps를 모두 수행합니다."
      ]
    },
    {
      "cell_type": "code",
      "metadata": {
        "id": "1A9f5ysXikuR"
      },
      "source": [
        "criterion = nn.BCEWithLogitsLoss()"
      ],
      "execution_count": 35,
      "outputs": []
    },
    {
      "cell_type": "code",
      "metadata": {
        "id": "ZosE0TCpis_9"
      },
      "source": [
        "# GPU\r\n",
        "model = model.to(device)\r\n",
        "criterion = criterion.to(device)"
      ],
      "execution_count": 36,
      "outputs": []
    },
    {
      "cell_type": "markdown",
      "metadata": {
        "id": "1w4aPDkeixl_"
      },
      "source": [
        "**accuracy function**\r\n",
        "- sigmoid layer를 지나면 0과 1사이의 값이 나오는데, 우리가 필요한 값은 0,1의 label이므로 [nn.round](https://pytorch.org/docs/stable/generated/torch.round.html)를 이용하여 반올림하였습니다.\r\n",
        "- prediction 값과 label 값이 같은 것들이 얼마나 있는지를 계산하여 정확도를 측정하였습니다."
      ]
    },
    {
      "cell_type": "code",
      "metadata": {
        "id": "ruGAS62rjQoy"
      },
      "source": [
        "def binary_accuracy(preds, y):\r\n",
        "\r\n",
        "  rounded_preds = torch.round(torch.sigmoid(preds))\r\n",
        "  # rounded_preds : [batch size]\r\n",
        "  # y : batch.label\r\n",
        "  correct = (rounded_preds == y).float()\r\n",
        "  acc = correct.sum() / len(correct)\r\n",
        "  return acc"
      ],
      "execution_count": 37,
      "outputs": []
    },
    {
      "cell_type": "markdown",
      "metadata": {
        "id": "E-Y-o_4kjkw2"
      },
      "source": [
        "### 1) Train"
      ]
    },
    {
      "cell_type": "code",
      "metadata": {
        "id": "dLVdffp-jojk"
      },
      "source": [
        "def train(model, iterator, optimizer, criterion):\r\n",
        "\r\n",
        "  epoch_loss = 0\r\n",
        "  epoch_acc = 0\r\n",
        "\r\n",
        "  # model을 \"training mode\"로 -> dropout이나 batch normalization이 가능해짐\r\n",
        "  # 이 모델에서는 이를 사용하지는 않음\r\n",
        "  model.train()\r\n",
        "\r\n",
        "  for batch in iterator:\r\n",
        "\r\n",
        "    # 모든 batch마다 gradient를 0으로 초기화\r\n",
        "    optimizer.zero_grad()\r\n",
        "\r\n",
        "    # packed padded sequences 를 했으므로 batch.text에는 text정보와 text_lengths의 정보가 있습니다.\r\n",
        "    text, text_lengths = batch.text\r\n",
        "\r\n",
        "    # batch of sentences인 batch.text를 model에 입력 (저절로 forward가 됨)\r\n",
        "    # predictions의 크기가 [batch size, 1]이므로 squeeze해서 [batch size]로 size를 변경해줘야 함 \r\n",
        "    predictions = model(text, text_lengths).squeeze(1)\r\n",
        "\r\n",
        "    # prediction결과와 batch.label을 비교하여 loss값 계산 \r\n",
        "    loss = criterion(predictions, batch.label)\r\n",
        "\r\n",
        "    # 정확도 계산\r\n",
        "    acc = binary_accuracy(predictions, batch.label)\r\n",
        "\r\n",
        "    # backward()를 사용하여 역전파 수행\r\n",
        "    loss.backward()\r\n",
        "\r\n",
        "    # 최적화 알고리즘을 사용하여 parameter를 update\r\n",
        "    optimizer.step()\r\n",
        "\r\n",
        "    epoch_loss += loss.item()\r\n",
        "    epoch_acc += acc.item()\r\n",
        "\r\n",
        "  return epoch_loss / len(iterator), epoch_acc / len(iterator)"
      ],
      "execution_count": 38,
      "outputs": []
    },
    {
      "cell_type": "markdown",
      "metadata": {
        "id": "D7aRqf7Cl9pu"
      },
      "source": [
        "### 2) Evaluate"
      ]
    },
    {
      "cell_type": "code",
      "metadata": {
        "id": "cBP2c1Q0mCXp"
      },
      "source": [
        "def evaluate(model, iterator, criterion):\r\n",
        "  epoch_loss = 0\r\n",
        "  epoch_acc = 0\r\n",
        "\r\n",
        "  # \"evaluation mode\" : dropout이나 batch nomalizaation을 끔\r\n",
        "  model.eval()\r\n",
        "\r\n",
        "  # pytorch에서 gradient가 계산되지 않도록 해서 memory를 적게 쓰고 computation 속도를 높임\r\n",
        "  with torch.no_grad():\r\n",
        "    \r\n",
        "    for batch in iterator :\r\n",
        "      \r\n",
        "      text, text_lengths = batch.text\r\n",
        "\r\n",
        "      predictions = model(text, text_lengths).squeeze(1)\r\n",
        "      \r\n",
        "      loss = criterion(predictions, batch.label)\r\n",
        "      acc = binary_accuracy(predictions, batch.label)\r\n",
        "\r\n",
        "      epoch_loss += loss.item()\r\n",
        "      epoch_acc += acc.item()\r\n",
        "\r\n",
        "  return epoch_loss / len(iterator), epoch_acc / len(iterator)"
      ],
      "execution_count": 39,
      "outputs": []
    },
    {
      "cell_type": "markdown",
      "metadata": {
        "id": "-wt3HQYEp3b2"
      },
      "source": [
        "- epoch 시간을 계산하기 위한 함수"
      ]
    },
    {
      "cell_type": "code",
      "metadata": {
        "id": "erTMajygmvuo"
      },
      "source": [
        "import time\r\n",
        "\r\n",
        "def epoch_time(start_time, end_time):\r\n",
        "  elapsed_time = end_time - start_time\r\n",
        "  elapsed_mins = int(elapsed_time / 60)\r\n",
        "  elapsed_secs = int(elapsed_time - (elapsed_mins * 60))\r\n",
        "  return elapsed_mins, elapsed_secs"
      ],
      "execution_count": 40,
      "outputs": []
    },
    {
      "cell_type": "markdown",
      "metadata": {
        "id": "wTZ9k2EhvO_6"
      },
      "source": [
        "### Train the model through multiple epochs"
      ]
    },
    {
      "cell_type": "code",
      "metadata": {
        "id": "DGrnQs4FnHtE",
        "colab": {
          "base_uri": "https://localhost:8080/"
        },
        "outputId": "f6815688-a5e4-4b5d-e5b4-26c51cf0c613"
      },
      "source": [
        "N_EPOCHS = 5\r\n",
        "\r\n",
        "best_valid_loss = float('inf')\r\n",
        "\r\n",
        "for epoch in range(N_EPOCHS):\r\n",
        "\r\n",
        "    start_time = time.time()\r\n",
        "    \r\n",
        "    train_loss, train_acc = train(model, train_iterator, optimizer, criterion)\r\n",
        "    valid_loss, valid_acc = evaluate(model, valid_iterator, criterion)\r\n",
        "    \r\n",
        "    end_time = time.time()\r\n",
        "\r\n",
        "    epoch_mins, epoch_secs = epoch_time(start_time, end_time)\r\n",
        "    \r\n",
        "    if valid_loss < best_valid_loss:\r\n",
        "        best_valid_loss = valid_loss\r\n",
        "        torch.save(model.state_dict(), 'tut2-model1.pt')\r\n",
        "    \r\n",
        "    print(f'Epoch: {epoch+1:02} | Epoch Time: {epoch_mins}m {epoch_secs}s')\r\n",
        "    print(f'\\tTrain Loss: {train_loss:.3f} | Train Acc: {train_acc*100:.2f}%')\r\n",
        "    print(f'\\t Val. Loss: {valid_loss:.3f} |  Val. Acc: {valid_acc*100:.2f}%')"
      ],
      "execution_count": 41,
      "outputs": [
        {
          "output_type": "stream",
          "text": [
            "Epoch: 01 | Epoch Time: 0m 40s\n",
            "\tTrain Loss: 0.651 | Train Acc: 60.63%\n",
            "\t Val. Loss: 0.595 |  Val. Acc: 68.26%\n",
            "Epoch: 02 | Epoch Time: 0m 40s\n",
            "\tTrain Loss: 0.562 | Train Acc: 71.45%\n",
            "\t Val. Loss: 0.450 |  Val. Acc: 80.07%\n",
            "Epoch: 03 | Epoch Time: 0m 40s\n",
            "\tTrain Loss: 0.433 | Train Acc: 80.71%\n",
            "\t Val. Loss: 0.547 |  Val. Acc: 75.14%\n",
            "Epoch: 04 | Epoch Time: 0m 40s\n",
            "\tTrain Loss: 0.384 | Train Acc: 83.52%\n",
            "\t Val. Loss: 0.350 |  Val. Acc: 85.18%\n",
            "Epoch: 05 | Epoch Time: 0m 40s\n",
            "\tTrain Loss: 0.322 | Train Acc: 86.62%\n",
            "\t Val. Loss: 0.398 |  Val. Acc: 84.34%\n"
          ],
          "name": "stdout"
        }
      ]
    },
    {
      "cell_type": "code",
      "metadata": {
        "id": "nfCNhdYznr5l",
        "colab": {
          "base_uri": "https://localhost:8080/"
        },
        "outputId": "3a743791-48dd-431e-ba9e-00d5348d5eac"
      },
      "source": [
        "model.load_state_dict(torch.load('tut2-model1.pt'))\r\n",
        "\r\n",
        "test_loss, test_acc = evaluate(model, test_iterator, criterion)\r\n",
        "\r\n",
        "print(f'Test Loss: {test_loss:.3f} | Test Acc: {test_acc*100:.2f}%')\r\n"
      ],
      "execution_count": 42,
      "outputs": [
        {
          "output_type": "stream",
          "text": [
            "Test Loss: 0.352 | Test Acc: 85.11%\n"
          ],
          "name": "stdout"
        }
      ]
    },
    {
      "cell_type": "markdown",
      "metadata": {
        "id": "bBK5C4_qhaZu"
      },
      "source": [
        "> 아래와 같이 RNN architecture를 약간씩 바꿔가면서도 실험을 할 수 있습니다.\r\n"
      ]
    },
    {
      "cell_type": "code",
      "metadata": {
        "colab": {
          "base_uri": "https://localhost:8080/"
        },
        "id": "lxdvvERvfsna",
        "outputId": "00cf180b-15fe-4b8c-aa8d-f3000acba444"
      },
      "source": [
        "# [Test1] single layer로 실험\r\n",
        "\r\n",
        "INPUT_DIM = len(TEXT.vocab) #25,002\r\n",
        "EMBEDDING_DIM = 100\r\n",
        "HIDDEN_DIM = 256\r\n",
        "OUTPUT_DIM = 1\r\n",
        "N_LAYERS = 1\r\n",
        "BIDIRECTIONAL = True\r\n",
        "DROPOUT = 0.5\r\n",
        "PAD_IDX = TEXT.vocab.stoi[TEXT.pad_token] # = 1 (<pad> token의 index)\r\n",
        "UNK_IDX = TEXT.vocab.stoi[TEXT.unk_token]\r\n",
        "\r\n",
        "model = RNN(INPUT_DIM, \r\n",
        "            EMBEDDING_DIM, \r\n",
        "            HIDDEN_DIM, \r\n",
        "            OUTPUT_DIM, \r\n",
        "            N_LAYERS, \r\n",
        "            BIDIRECTIONAL, \r\n",
        "            DROPOUT, \r\n",
        "            PAD_IDX)\r\n",
        "\r\n",
        "\r\n",
        "pretrained_embeddings = TEXT.vocab.vectors\r\n",
        "model.embedding.weight.data.copy_(pretrained_embeddings)\r\n",
        " \r\n",
        "model.embedding.weight.data[UNK_IDX] = torch.zeros(EMBEDDING_DIM)\r\n",
        "model.embedding.weight.data[PAD_IDX] = torch.zeros(EMBEDDING_DIM)\r\n",
        "\r\n",
        "optimizer =optim.Adam(model.parameters())\r\n",
        "criterion = nn.BCEWithLogitsLoss()\r\n",
        "# GPU\r\n",
        "model = model.to(device)\r\n",
        "criterion = criterion.to(device)\r\n",
        "\r\n",
        "N_EPOCHS = 5\r\n",
        "\r\n",
        "best_valid_loss = float('inf')\r\n",
        "\r\n",
        "for epoch in range(N_EPOCHS):\r\n",
        "\r\n",
        "    start_time = time.time()\r\n",
        "    \r\n",
        "    train_loss, train_acc = train(model, train_iterator, optimizer, criterion)\r\n",
        "    valid_loss, valid_acc = evaluate(model, valid_iterator, criterion)\r\n",
        "    \r\n",
        "    end_time = time.time()\r\n",
        "\r\n",
        "    epoch_mins, epoch_secs = epoch_time(start_time, end_time)\r\n",
        "    \r\n",
        "    if valid_loss < best_valid_loss:\r\n",
        "        best_valid_loss = valid_loss\r\n",
        "        torch.save(model.state_dict(), 'tut2-model2.pt')\r\n",
        "\r\n",
        "    print(f'Epoch: {epoch+1:02} | Epoch Time: {epoch_mins}m {epoch_secs}s')\r\n",
        "    print(f'\\tTrain Loss: {train_loss:.3f} | Train Acc: {train_acc*100:.2f}%')\r\n",
        "    print(f'\\t Val. Loss: {valid_loss:.3f} |  Val. Acc: {valid_acc*100:.2f}%')\r\n",
        "\r\n",
        "test_loss, test_acc = evaluate(model, test_iterator, criterion)\r\n",
        "\r\n",
        "print(f'Test Loss: {test_loss:.3f} | Test Acc: {test_acc*100:.2f}%')"
      ],
      "execution_count": 43,
      "outputs": [
        {
          "output_type": "stream",
          "text": [
            "/usr/local/lib/python3.7/dist-packages/torch/nn/modules/rnn.py:63: UserWarning: dropout option adds dropout after all but last recurrent layer, so non-zero dropout expects num_layers greater than 1, but got dropout=0.5 and num_layers=1\n",
            "  \"num_layers={}\".format(dropout, num_layers))\n"
          ],
          "name": "stderr"
        },
        {
          "output_type": "stream",
          "text": [
            "Epoch: 01 | Epoch Time: 0m 14s\n",
            "\tTrain Loss: 0.653 | Train Acc: 60.86%\n",
            "\t Val. Loss: 0.635 |  Val. Acc: 63.75%\n",
            "Epoch: 02 | Epoch Time: 0m 14s\n",
            "\tTrain Loss: 0.565 | Train Acc: 71.25%\n",
            "\t Val. Loss: 0.543 |  Val. Acc: 75.42%\n",
            "Epoch: 03 | Epoch Time: 0m 14s\n",
            "\tTrain Loss: 0.445 | Train Acc: 79.91%\n",
            "\t Val. Loss: 0.456 |  Val. Acc: 79.71%\n",
            "Epoch: 04 | Epoch Time: 0m 14s\n",
            "\tTrain Loss: 0.362 | Train Acc: 84.56%\n",
            "\t Val. Loss: 0.375 |  Val. Acc: 83.60%\n",
            "Epoch: 05 | Epoch Time: 0m 14s\n",
            "\tTrain Loss: 0.296 | Train Acc: 87.79%\n",
            "\t Val. Loss: 0.292 |  Val. Acc: 88.10%\n",
            "Test Loss: 0.301 | Test Acc: 87.47%\n"
          ],
          "name": "stdout"
        }
      ]
    },
    {
      "cell_type": "code",
      "metadata": {
        "colab": {
          "base_uri": "https://localhost:8080/"
        },
        "id": "WsDw_O_CggcS",
        "outputId": "e0d57190-3424-488a-a8a5-706280c68291"
      },
      "source": [
        "# [Test2] Dropout을 하지 않고 실험\r\n",
        "\r\n",
        "INPUT_DIM = len(TEXT.vocab) #25,002\r\n",
        "EMBEDDING_DIM = 100\r\n",
        "HIDDEN_DIM = 256\r\n",
        "OUTPUT_DIM = 1\r\n",
        "N_LAYERS = 1\r\n",
        "BIDIRECTIONAL = True\r\n",
        "DROPOUT = 0\r\n",
        "PAD_IDX = TEXT.vocab.stoi[TEXT.pad_token] # = 1 (<pad> token의 index)\r\n",
        "UNK_IDX = TEXT.vocab.stoi[TEXT.unk_token]\r\n",
        "\r\n",
        "model = RNN(INPUT_DIM, \r\n",
        "            EMBEDDING_DIM, \r\n",
        "            HIDDEN_DIM, \r\n",
        "            OUTPUT_DIM, \r\n",
        "            N_LAYERS, \r\n",
        "            BIDIRECTIONAL, \r\n",
        "            DROPOUT, \r\n",
        "            PAD_IDX)\r\n",
        "\r\n",
        "\r\n",
        "pretrained_embeddings = TEXT.vocab.vectors\r\n",
        "model.embedding.weight.data.copy_(pretrained_embeddings)\r\n",
        " \r\n",
        "model.embedding.weight.data[UNK_IDX] = torch.zeros(EMBEDDING_DIM)\r\n",
        "model.embedding.weight.data[PAD_IDX] = torch.zeros(EMBEDDING_DIM)\r\n",
        "\r\n",
        "optimizer =optim.Adam(model.parameters())\r\n",
        "criterion = nn.BCEWithLogitsLoss()\r\n",
        "# GPU\r\n",
        "model = model.to(device)\r\n",
        "criterion = criterion.to(device)\r\n",
        "\r\n",
        "N_EPOCHS = 5\r\n",
        "\r\n",
        "best_valid_loss = float('inf')\r\n",
        "\r\n",
        "for epoch in range(N_EPOCHS):\r\n",
        "\r\n",
        "    start_time = time.time()\r\n",
        "    \r\n",
        "    train_loss, train_acc = train(model, train_iterator, optimizer, criterion)\r\n",
        "    valid_loss, valid_acc = evaluate(model, valid_iterator, criterion)\r\n",
        "    \r\n",
        "    end_time = time.time()\r\n",
        "\r\n",
        "    epoch_mins, epoch_secs = epoch_time(start_time, end_time)\r\n",
        "    \r\n",
        "    if valid_loss < best_valid_loss:\r\n",
        "        best_valid_loss = valid_loss\r\n",
        "        torch.save(model.state_dict(), 'tut2-model3.pt')\r\n",
        "\r\n",
        "    print(f'Epoch: {epoch+1:02} | Epoch Time: {epoch_mins}m {epoch_secs}s')\r\n",
        "    print(f'\\tTrain Loss: {train_loss:.3f} | Train Acc: {train_acc*100:.2f}%')\r\n",
        "    print(f'\\t Val. Loss: {valid_loss:.3f} |  Val. Acc: {valid_acc*100:.2f}%')\r\n",
        "\r\n",
        "test_loss, test_acc = evaluate(model, test_iterator, criterion)\r\n",
        "\r\n",
        "print(f'Test Loss: {test_loss:.3f} | Test Acc: {test_acc*100:.2f}%')"
      ],
      "execution_count": 44,
      "outputs": [
        {
          "output_type": "stream",
          "text": [
            "Epoch: 01 | Epoch Time: 0m 14s\n",
            "\tTrain Loss: 0.616 | Train Acc: 64.81%\n",
            "\t Val. Loss: 0.554 |  Val. Acc: 71.46%\n",
            "Epoch: 02 | Epoch Time: 0m 14s\n",
            "\tTrain Loss: 0.502 | Train Acc: 75.93%\n",
            "\t Val. Loss: 0.619 |  Val. Acc: 62.45%\n",
            "Epoch: 03 | Epoch Time: 0m 14s\n",
            "\tTrain Loss: 0.354 | Train Acc: 84.26%\n",
            "\t Val. Loss: 0.353 |  Val. Acc: 85.38%\n",
            "Epoch: 04 | Epoch Time: 0m 14s\n",
            "\tTrain Loss: 0.222 | Train Acc: 91.19%\n",
            "\t Val. Loss: 0.332 |  Val. Acc: 86.52%\n",
            "Epoch: 05 | Epoch Time: 0m 14s\n",
            "\tTrain Loss: 0.144 | Train Acc: 94.89%\n",
            "\t Val. Loss: 0.355 |  Val. Acc: 88.07%\n",
            "Test Loss: 0.378 | Test Acc: 86.65%\n"
          ],
          "name": "stdout"
        }
      ]
    },
    {
      "cell_type": "code",
      "metadata": {
        "colab": {
          "base_uri": "https://localhost:8080/"
        },
        "id": "MHYbCwpbhRZ1",
        "outputId": "cb8fa9dd-9b49-465c-9191-9649e740871e"
      },
      "source": [
        "# [Test3] layer의 개수를 3개로 늘린 후 실험\r\n",
        "\r\n",
        "INPUT_DIM = len(TEXT.vocab) #25,002\r\n",
        "EMBEDDING_DIM = 100\r\n",
        "HIDDEN_DIM = 256\r\n",
        "OUTPUT_DIM = 1\r\n",
        "N_LAYERS = 3\r\n",
        "BIDIRECTIONAL = True\r\n",
        "DROPOUT = 0.5\r\n",
        "PAD_IDX = TEXT.vocab.stoi[TEXT.pad_token] # = 1 (<pad> token의 index)\r\n",
        "UNK_IDX = TEXT.vocab.stoi[TEXT.unk_token]\r\n",
        "\r\n",
        "model = RNN(INPUT_DIM, \r\n",
        "            EMBEDDING_DIM, \r\n",
        "            HIDDEN_DIM, \r\n",
        "            OUTPUT_DIM, \r\n",
        "            N_LAYERS, \r\n",
        "            BIDIRECTIONAL, \r\n",
        "            DROPOUT, \r\n",
        "            PAD_IDX)\r\n",
        "\r\n",
        "\r\n",
        "pretrained_embeddings = TEXT.vocab.vectors\r\n",
        "model.embedding.weight.data.copy_(pretrained_embeddings)\r\n",
        " \r\n",
        "model.embedding.weight.data[UNK_IDX] = torch.zeros(EMBEDDING_DIM)\r\n",
        "model.embedding.weight.data[PAD_IDX] = torch.zeros(EMBEDDING_DIM)\r\n",
        "\r\n",
        "optimizer =optim.Adam(model.parameters())\r\n",
        "criterion = nn.BCEWithLogitsLoss()\r\n",
        "# GPU\r\n",
        "model = model.to(device)\r\n",
        "criterion = criterion.to(device)\r\n",
        "\r\n",
        "N_EPOCHS = 5\r\n",
        "\r\n",
        "best_valid_loss = float('inf')\r\n",
        "\r\n",
        "for epoch in range(N_EPOCHS):\r\n",
        "\r\n",
        "    start_time = time.time()\r\n",
        "    \r\n",
        "    train_loss, train_acc = train(model, train_iterator, optimizer, criterion)\r\n",
        "    valid_loss, valid_acc = evaluate(model, valid_iterator, criterion)\r\n",
        "    \r\n",
        "    end_time = time.time()\r\n",
        "\r\n",
        "    epoch_mins, epoch_secs = epoch_time(start_time, end_time)\r\n",
        "    \r\n",
        "    if valid_loss < best_valid_loss:\r\n",
        "        best_valid_loss = valid_loss\r\n",
        "        torch.save(model.state_dict(), 'tut2-model4.pt')\r\n",
        "\r\n",
        "    print(f'Epoch: {epoch+1:02} | Epoch Time: {epoch_mins}m {epoch_secs}s')\r\n",
        "    print(f'\\tTrain Loss: {train_loss:.3f} | Train Acc: {train_acc*100:.2f}%')\r\n",
        "    print(f'\\t Val. Loss: {valid_loss:.3f} |  Val. Acc: {valid_acc*100:.2f}%')\r\n",
        "\r\n",
        "test_loss, test_acc = evaluate(model, test_iterator, criterion)\r\n",
        "\r\n",
        "print(f'Test Loss: {test_loss:.3f} | Test Acc: {test_acc*100:.2f}%')"
      ],
      "execution_count": 45,
      "outputs": [
        {
          "output_type": "stream",
          "text": [
            "Epoch: 01 | Epoch Time: 1m 7s\n",
            "\tTrain Loss: 0.678 | Train Acc: 56.10%\n",
            "\t Val. Loss: 0.693 |  Val. Acc: 49.09%\n",
            "Epoch: 02 | Epoch Time: 1m 8s\n",
            "\tTrain Loss: 0.690 | Train Acc: 52.15%\n",
            "\t Val. Loss: 0.670 |  Val. Acc: 60.09%\n",
            "Epoch: 03 | Epoch Time: 1m 8s\n",
            "\tTrain Loss: 0.679 | Train Acc: 57.37%\n",
            "\t Val. Loss: 0.682 |  Val. Acc: 52.64%\n",
            "Epoch: 04 | Epoch Time: 1m 8s\n",
            "\tTrain Loss: 0.665 | Train Acc: 58.76%\n",
            "\t Val. Loss: 0.608 |  Val. Acc: 67.05%\n",
            "Epoch: 05 | Epoch Time: 1m 8s\n",
            "\tTrain Loss: 0.583 | Train Acc: 69.32%\n",
            "\t Val. Loss: 0.409 |  Val. Acc: 81.91%\n",
            "Test Loss: 0.405 | Test Acc: 81.94%\n"
          ],
          "name": "stdout"
        }
      ]
    },
    {
      "cell_type": "code",
      "metadata": {
        "colab": {
          "base_uri": "https://localhost:8080/"
        },
        "id": "WvfrIrGIiZ9L",
        "outputId": "eb29b575-21f9-483e-fa94-b51d1e458ff0"
      },
      "source": [
        "# [Test4] Bidirectional RNN이 아닌 forward RNN을 이용하여 실험\r\n",
        "\r\n",
        "INPUT_DIM = len(TEXT.vocab) #25,002\r\n",
        "EMBEDDING_DIM = 100\r\n",
        "HIDDEN_DIM = 256\r\n",
        "OUTPUT_DIM = 1\r\n",
        "N_LAYERS = 2\r\n",
        "BIDIRECTIONAL = False\r\n",
        "DROPOUT = 0.5\r\n",
        "PAD_IDX = TEXT.vocab.stoi[TEXT.pad_token] # = 1 (<pad> token의 index)\r\n",
        "UNK_IDX = TEXT.vocab.stoi[TEXT.unk_token]\r\n",
        "\r\n",
        "model = RNN(INPUT_DIM, \r\n",
        "            EMBEDDING_DIM, \r\n",
        "            HIDDEN_DIM, \r\n",
        "            OUTPUT_DIM, \r\n",
        "            N_LAYERS, \r\n",
        "            BIDIRECTIONAL, \r\n",
        "            DROPOUT, \r\n",
        "            PAD_IDX)\r\n",
        "\r\n",
        "\r\n",
        "pretrained_embeddings = TEXT.vocab.vectors\r\n",
        "model.embedding.weight.data.copy_(pretrained_embeddings)\r\n",
        " \r\n",
        "model.embedding.weight.data[UNK_IDX] = torch.zeros(EMBEDDING_DIM)\r\n",
        "model.embedding.weight.data[PAD_IDX] = torch.zeros(EMBEDDING_DIM)\r\n",
        "\r\n",
        "optimizer =optim.Adam(model.parameters())\r\n",
        "criterion = nn.BCEWithLogitsLoss()\r\n",
        "# GPU\r\n",
        "model = model.to(device)\r\n",
        "criterion = criterion.to(device)\r\n",
        "\r\n",
        "N_EPOCHS = 5\r\n",
        "\r\n",
        "best_valid_loss = float('inf')\r\n",
        "\r\n",
        "for epoch in range(N_EPOCHS):\r\n",
        "\r\n",
        "    start_time = time.time()\r\n",
        "    \r\n",
        "    train_loss, train_acc = train(model, train_iterator, optimizer, criterion)\r\n",
        "    valid_loss, valid_acc = evaluate(model, valid_iterator, criterion)\r\n",
        "    \r\n",
        "    end_time = time.time()\r\n",
        "\r\n",
        "    epoch_mins, epoch_secs = epoch_time(start_time, end_time)\r\n",
        "    \r\n",
        "    if valid_loss < best_valid_loss:\r\n",
        "        best_valid_loss = valid_loss\r\n",
        "        torch.save(model.state_dict(), 'tut2-model5.pt')\r\n",
        "\r\n",
        "    print(f'Epoch: {epoch+1:02} | Epoch Time: {epoch_mins}m {epoch_secs}s')\r\n",
        "    print(f'\\tTrain Loss: {train_loss:.3f} | Train Acc: {train_acc*100:.2f}%')\r\n",
        "    print(f'\\t Val. Loss: {valid_loss:.3f} |  Val. Acc: {valid_acc*100:.2f}%')\r\n",
        "\r\n",
        "test_loss, test_acc = evaluate(model, test_iterator, criterion)\r\n",
        "\r\n",
        "print(f'Test Loss: {test_loss:.3f} | Test Acc: {test_acc*100:.2f}%')"
      ],
      "execution_count": 46,
      "outputs": [
        {
          "output_type": "stream",
          "text": [
            "Epoch: 01 | Epoch Time: 0m 17s\n",
            "\tTrain Loss: 0.659 | Train Acc: 59.95%\n",
            "\t Val. Loss: 0.649 |  Val. Acc: 61.15%\n",
            "Epoch: 02 | Epoch Time: 0m 18s\n",
            "\tTrain Loss: 0.570 | Train Acc: 71.37%\n",
            "\t Val. Loss: 0.706 |  Val. Acc: 51.09%\n",
            "Epoch: 03 | Epoch Time: 0m 17s\n",
            "\tTrain Loss: 0.495 | Train Acc: 75.35%\n",
            "\t Val. Loss: 0.364 |  Val. Acc: 85.76%\n",
            "Epoch: 04 | Epoch Time: 0m 18s\n",
            "\tTrain Loss: 0.321 | Train Acc: 87.16%\n",
            "\t Val. Loss: 0.290 |  Val. Acc: 88.10%\n",
            "Epoch: 05 | Epoch Time: 0m 18s\n",
            "\tTrain Loss: 0.257 | Train Acc: 89.76%\n",
            "\t Val. Loss: 0.301 |  Val. Acc: 88.48%\n",
            "Test Loss: 0.304 | Test Acc: 88.24%\n"
          ],
          "name": "stdout"
        }
      ]
    },
    {
      "cell_type": "markdown",
      "metadata": {
        "id": "SkdDIEcpetrR"
      },
      "source": [
        "## Test"
      ]
    },
    {
      "cell_type": "code",
      "metadata": {
        "colab": {
          "base_uri": "https://localhost:8080/"
        },
        "id": "jARRgy-7kWqM",
        "outputId": "8bbe84fc-37e3-4402-b070-299e02121476"
      },
      "source": [
        "import torch\r\n",
        "model.load_state_dict(torch.load('tut2-model5.pt'))"
      ],
      "execution_count": 59,
      "outputs": [
        {
          "output_type": "execute_result",
          "data": {
            "text/plain": [
              "<All keys matched successfully>"
            ]
          },
          "metadata": {
            "tags": []
          },
          "execution_count": 59
        }
      ]
    },
    {
      "cell_type": "code",
      "metadata": {
        "id": "iBXwZ4NvaHyH"
      },
      "source": [
        "import spacy\r\n",
        "nlp = spacy.load('en')\r\n",
        "\r\n",
        "def predict_sentiment(model, sentence):\r\n",
        "    model.eval()\r\n",
        "    tokenized = [tok.text for tok in nlp.tokenizer(sentence)]\r\n",
        "    indexed = [TEXT.vocab.stoi[t] for t in tokenized]\r\n",
        "    length = [len(indexed)]\r\n",
        "    tensor = torch.LongTensor(indexed).to(device)\r\n",
        "    tensor = tensor.unsqueeze(1)\r\n",
        "    length_tensor = torch.LongTensor(length)\r\n",
        "    prediction = torch.sigmoid(model(tensor, length_tensor))\r\n",
        "    return prediction.item()\r\n",
        "\r\n",
        "def predict_test_sentiment(model, tokenized):\r\n",
        "    model.eval()\r\n",
        "    indexed = [TEXT.vocab.stoi[t] for t in tokenized]\r\n",
        "    length = [len(indexed)]\r\n",
        "    tensor = torch.LongTensor(indexed).to(device)\r\n",
        "    tensor = tensor.unsqueeze(1)\r\n",
        "    length_tensor = torch.LongTensor(length)\r\n",
        "    prediction = torch.sigmoid(model(tensor, length_tensor))\r\n",
        "    return prediction.item()\r\n"
      ],
      "execution_count": 51,
      "outputs": []
    },
    {
      "cell_type": "code",
      "metadata": {
        "colab": {
          "base_uri": "https://localhost:8080/"
        },
        "id": "y9M3ns7DeOxy",
        "outputId": "7a16af8b-e032-48fe-a073-d1dab50f2056"
      },
      "source": [
        "print(vars(test_data.examples[0])['text'])\r\n",
        "predict_test_sentiment(model, vars(test_data.examples[0])['text'])"
      ],
      "execution_count": 52,
      "outputs": [
        {
          "output_type": "stream",
          "text": [
            "['King', 'of', 'the', 'Underworld', 'features', 'an', 'early', 'role', 'for', 'Humphery', 'Bogart', 'in', 'one', 'of', 'his', 'many', 'gangster', 'roles.<br', '/><br', '/>He', 'plays', 'Joe', 'Gurney', 'who', 'uses', 'a', 'female', 'doctor', 'to', 'treat', 'his', 'men', 'and', 'pays', 'her', 'for', 'it', '.', 'He', 'follows', 'her', 'when', 'she', 'goes', 'to', 'live', 'with', 'her', 'Auntie', 'after', 'one', 'of', 'Gurney', \"'s\", 'men', 'kills', 'her', 'doctor', 'husband', 'who', 'also', 'worked', 'for', 'him', '.', 'Gurney', 'kidnaps', 'an', 'author', 'on', 'his', 'way', 'to', 'find', 'the', 'female', 'doctor', 'and', 'gets', 'him', 'to', 'write', 'his', 'life', 'story', 'and', 'he', 'then', 'plans', 'to', 'kill', 'him', '.', 'He', 'finally', 'meets', 'up', 'with', 'the', 'doctor', 'and', 'after', 'she', 'gives', 'Gurney', 'and', 'his', 'men', 'a', 'substance', 'that', 'makes', 'them', 'temporarily', 'blind', ',', 'she', 'and', 'the', 'author', ',', 'who', 'have', 'now', 'fallen', 'in', 'love', 'manage', 'to', 'escape', 'just', 'as', 'police', 'arrive', '...', '<br', '/><br', '/>Joing', 'the', 'excellent', 'Bogie', 'in', 'the', 'cast', 'are', 'Kay', 'Francis', ',', 'James', 'Stephenson', 'and', 'John', 'Eldredge.<br', '/><br', '/>Watching', 'King', 'of', 'the', 'Underworld', 'is', 'a', 'good', 'way', 'to', 'spend', 'just', 'over', 'an', 'hour', 'one', 'evening.<br', '/><br', '/>Rating', ':', '3', 'stars', 'out', 'of', '5', '.']\n"
          ],
          "name": "stdout"
        },
        {
          "output_type": "execute_result",
          "data": {
            "text/plain": [
              "0.9196054935455322"
            ]
          },
          "metadata": {
            "tags": []
          },
          "execution_count": 52
        }
      ]
    },
    {
      "cell_type": "code",
      "metadata": {
        "colab": {
          "base_uri": "https://localhost:8080/"
        },
        "id": "U_enFMlcaKPp",
        "outputId": "4bc126d8-43dc-45d0-c9f6-74d3683f566d"
      },
      "source": [
        "predict_sentiment(model, \"This film is terrible\")"
      ],
      "execution_count": 53,
      "outputs": [
        {
          "output_type": "execute_result",
          "data": {
            "text/plain": [
              "0.21322095394134521"
            ]
          },
          "metadata": {
            "tags": []
          },
          "execution_count": 53
        }
      ]
    },
    {
      "cell_type": "code",
      "metadata": {
        "colab": {
          "base_uri": "https://localhost:8080/"
        },
        "id": "WaOqFksjaKwD",
        "outputId": "74186dae-529e-48ef-8757-a4b412b30433"
      },
      "source": [
        "predict_sentiment(model, \"This film is great\")"
      ],
      "execution_count": 54,
      "outputs": [
        {
          "output_type": "execute_result",
          "data": {
            "text/plain": [
              "0.8053932189941406"
            ]
          },
          "metadata": {
            "tags": []
          },
          "execution_count": 54
        }
      ]
    },
    {
      "cell_type": "code",
      "metadata": {
        "colab": {
          "base_uri": "https://localhost:8080/"
        },
        "id": "FH2LkQt9duaI",
        "outputId": "36389fc8-bf17-4f95-d43b-bbb6290242a0"
      },
      "source": [
        "predict_sentiment(model, \"This movie is fantastic\")"
      ],
      "execution_count": 55,
      "outputs": [
        {
          "output_type": "execute_result",
          "data": {
            "text/plain": [
              "0.830180287361145"
            ]
          },
          "metadata": {
            "tags": []
          },
          "execution_count": 55
        }
      ]
    }
  ]
}